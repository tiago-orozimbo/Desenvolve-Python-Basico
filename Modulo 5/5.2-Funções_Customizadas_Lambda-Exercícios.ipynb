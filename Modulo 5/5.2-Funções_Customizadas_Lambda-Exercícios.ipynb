{
 "cells": [
  {
   "cell_type": "markdown",
   "id": "cbdff5a5",
   "metadata": {},
   "source": [
    "# Módulo 5 - Funções\n",
    "\n",
    "## Aulas 5.2 - Funções Customizadas e 5.4 Funções ```lambda```"
   ]
  },
  {
   "cell_type": "markdown",
   "id": "28a3fee2",
   "metadata": {},
   "source": [
    "### Q1.\n",
    "\n",
    "- Sabendo que o código a seguir calcula o fatorial de n, escreva uma função chamada ```fatorial()``` que recebe um inteiro ```n``` como parâmetro e retorna o resultado do fatorial de ```n```. \n",
    "- No programa principal, peça ao usuário o valor de ```n```, chame a sua função e imprima o retorno.\n",
    "\n",
    "```python\n",
    "fat = 1\n",
    "for i in range(1, n+1):\n",
    "    fat *= i \n",
    "```"
   ]
  },
  {
   "cell_type": "code",
   "execution_count": null,
   "id": "d126b3a5",
   "metadata": {},
   "outputs": [],
   "source": [
    "## Crie aqui a função fatorial()\n",
    "## lembre-se de executar a célula para que \n",
    "## a função passe a existir e possa ser chamada\n",
    "def fatorial (n):\n",
    "    fat = 1\n",
    "    for i in range(1, n+1):\n",
    "        fat *= i\n",
    "    return fat"
   ]
  },
  {
   "cell_type": "code",
   "execution_count": 1,
   "id": "6e4fe64e",
   "metadata": {},
   "outputs": [
    {
     "name": "stdout",
     "output_type": "stream",
     "text": [
      "Digite o número n: 5\n",
      "120\n"
     ]
    }
   ],
   "source": [
    "## Escreva aqui o programa principal e execute a célula\n",
    "def fatorial (n):\n",
    "    fat = 1\n",
    "    for i in range(1, n+1):\n",
    "        fat *= i\n",
    "    return fat\n",
    "n = int(input('Digite o número n: '))\n",
    "f = fatorial (n)\n",
    "print(f)\n"
   ]
  },
  {
   "cell_type": "markdown",
   "id": "c0a1f599",
   "metadata": {},
   "source": [
    "### Q2.\n",
    "\n",
    "- Escreva uma função em Python chamada ```soma_quadrados``` que recebe dois números como parâmetros e retorna a soma dos seus quadrados. \n",
    "- No programa principal solicite ao usuário que insira dois números e utilize a função para exibir a soma dos quadrados."
   ]
  },
  {
   "cell_type": "code",
   "execution_count": null,
   "id": "6dbddaad",
   "metadata": {},
   "outputs": [],
   "source": [
    "## Crie aqui a função soma_quadrados()\n",
    "def soma_quadrados (n1,n2):\n",
    "    soma = (n1**2) + (n2**2)\n",
    "    return soma"
   ]
  },
  {
   "cell_type": "code",
   "execution_count": 3,
   "id": "9175a7da",
   "metadata": {},
   "outputs": [
    {
     "name": "stdout",
     "output_type": "stream",
     "text": [
      "Digite o primeiro número: 2\n",
      "Digite o segundo número: 4\n",
      "20\n"
     ]
    }
   ],
   "source": [
    "## Escreva aqui o programa principal e execute a célula\n",
    "def soma_quadrados (n1,n2):\n",
    "    soma = (n1**2) + (n2**2)\n",
    "    return soma\n",
    "n1,n2 = int(input('Digite o primeiro número: ')), int(input('Digite o segundo número: '))\n",
    "s = soma_quadrados (n1,n2)\n",
    "print(s)\n"
   ]
  },
  {
   "cell_type": "markdown",
   "id": "6ba34ce0",
   "metadata": {},
   "source": [
    "### Q3.\n",
    "\n",
    "- Crie uma função em Python chamada ```soma_digitos``` que recebe um número inteiro como parâmetro e retorna a soma dos seus dígitos. Por exemplo, para o número 123, a função deve retornar 6, $(1 + 2 + 3)$.\n",
    "    - O desafio aqui é separar os dígitos de um número inteiro usando operações aritméticas <br> <br>\n",
    "\n",
    "- No programa principal solicite ao usuário que insira um número e utilize a função ```soma_digitos``` para calcular e exibir a soma dos seus dígitos."
   ]
  },
  {
   "cell_type": "code",
   "execution_count": null,
   "id": "34838ebf",
   "metadata": {},
   "outputs": [],
   "source": [
    "## Crie aqui a função soma_digitos()\n",
    "def soma_digitos (n):\n",
    "   soma = 0\n",
    "   while (n > 0):\n",
    "        dig = n % 10\n",
    "        n = n // 10\n",
    "        soma = soma + dig\n",
    "   return soma\n"
   ]
  },
  {
   "cell_type": "code",
   "execution_count": 4,
   "id": "27c35b21",
   "metadata": {},
   "outputs": [
    {
     "name": "stdout",
     "output_type": "stream",
     "text": [
      "Digite um numero: 123\n",
      "6\n"
     ]
    }
   ],
   "source": [
    "## Escreva aqui o programa principal e execute a célula\n",
    "def soma_digitos (n):\n",
    "   soma = 0\n",
    "   while (n > 0):\n",
    "        dig = n % 10\n",
    "        n = n // 10\n",
    "        soma = soma + dig\n",
    "   return soma\n",
    "n1 = int(input('Digite um numero: '))\n",
    "s = soma_digitos(n1)\n",
    "print(s)\n"
   ]
  },
  {
   "cell_type": "markdown",
   "id": "c318b159",
   "metadata": {},
   "source": [
    "### Q4.\n",
    "\n",
    "- Crie a função ```inverteValor()``` que recebe um inteiro de qualquer tamanho e retorna esse valor invertido usando apenas operações aritméticas\n",
    "- Crie a função ```verificaInverso()``` que recebe o valor original e o valor invertido e retorna verdadeiro se ambos forem igualmente par ou igualmente ímpar. Retorne falso caso contrário.\n",
    "- No programa principal, peça um valor do usuário e imprima o retorno de ambas as funções.\n"
   ]
  },
  {
   "cell_type": "code",
   "execution_count": null,
   "id": "e4e47d1d",
   "metadata": {},
   "outputs": [],
   "source": [
    "## Crie aqui as funções inverteValor() e verificaInverso()\n",
    "def invertValor (valor):\n",
    "   valor_invertido = ''\n",
    "   while (valor > 0):\n",
    "        dig = valor % 10\n",
    "        valor = valor // 10\n",
    "        valor_invertido += str(dig)\n",
    "   return valor_invertido\n",
    "def verificaInverso(valor, valor_invertido):\n",
    "    if valor_invertido == invertido :\n",
    "        eh_inverso = True\n",
    "    else :\n",
    "        eh_inverso = False\n",
    "    return eh_inverso \n",
    "\n"
   ]
  },
  {
   "cell_type": "code",
   "execution_count": 1,
   "id": "a9514e56",
   "metadata": {},
   "outputs": [
    {
     "name": "stdout",
     "output_type": "stream",
     "text": [
      "Digite um numero: 154896\n",
      "698451\n",
      "True\n"
     ]
    }
   ],
   "source": [
    "## Escreva aqui o programa principal e execute a célula\n",
    "def invertValor (valor):\n",
    "   valor_invertido = ''\n",
    "   while (valor > 0):\n",
    "        dig = valor % 10\n",
    "        valor = valor // 10\n",
    "        valor_invertido += str(dig)\n",
    "   return valor_invertido\n",
    "def verificaInverso(valor, valor_invertido):\n",
    "    if valor_invertido == invertido :\n",
    "        eh_inverso = True\n",
    "    else :\n",
    "        eh_inverso = False\n",
    "    return eh_inverso \n",
    "valor = int(input('Digite um numero: '))\n",
    "invertido = invertValor (valor)\n",
    "print(invertido)\n",
    "print(verificaInverso(valor, invertido))\n"
   ]
  },
  {
   "cell_type": "markdown",
   "id": "329be966",
   "metadata": {},
   "source": [
    "### Q5.\n",
    "\n",
    "Você está desenvolvendo um programa para auxiliar em cálculos de geometria básica. Crie as seguintes funções:\n",
    "- A função ```calcula_perimetro_triangulo()``` que recebe três inteiros correspondentes aos lados de um triângulo e retorna o perímetro do triângulo, ou seja, a soma dos seus lados.\n",
    "- A função ```calcula_perimetro_circulo()``` que recebe um inteiro referente ao raio do círculo e retorna o perímetro do círculo, dado por $2 \\pi r$. Use a constante $\\pi$ da biblioteca ```math```.\n",
    "- A função ```calcula_perimetro_retangulo()``` que possui um parâmetro obrigatório ```lado1``` e um opcional ```lado2```, ambos inteiros. Se o valor opcional não for fornecido, significa que se trata de um quadrado. Sua função deve calcular e retornar o perímetro do retângulo, ou seja, a soma de seus lados. \n",
    "    - Para o quadrado, é dado por $4 \\times lado1$\n",
    "    - Para o retângulo é dado por $2 \\times lado1 + 2 \\times lado2$\n",
    "    \n",
    "- No programa principal apresente um menu com as opções disponíveis do seu sistema e uma quarta opção ```Sair```. Solicite ao usuário a opção desejada, solicite as entradas correspondentes à opção escolhida, invoque a respective função e apresente o seu retorno. Seu programa deve retornar ao menu até que o usuário escolha a opção ```Sair```\n",
    "\n",
    "Exemplo de interação:\n",
    "```\n",
    "1 - Calcular perímetro triângulo\n",
    "2 - Calcular perímetro círculo\n",
    "3 - Calcular perímetro retângulo\n",
    "4 - Sair\n",
    "\n",
    "Opção: 1\n",
    "Digite os três lados do triângulo:\n",
    "3\n",
    "4\n",
    "5\n",
    "O perímetro é: 12\n",
    "\n",
    "1 - Calcular perímetro triângulo\n",
    "2 - Calcular perímetro círculo\n",
    "3 - Calcular perímetro retângulo\n",
    "4 - Sair\n",
    "\n",
    "Opção: 3\n",
    "Informe os dois lados do retângulo. Se for um quadrado, digite 0 para o segundo valor:\n",
    "5\n",
    "0\n",
    "O perímetro é: 20\n",
    "\n",
    "1 - Calcular perímetro triângulo\n",
    "2 - Calcular perímetro círculo\n",
    "3 - Calcular perímetro retângulo\n",
    "4 - Sair\n",
    "\n",
    "Opção: 4\n",
    "```"
   ]
  },
  {
   "cell_type": "code",
   "execution_count": null,
   "id": "0793d328",
   "metadata": {},
   "outputs": [],
   "source": [
    "## Crie aqui as funções \n",
    "import math\n",
    "def calcula_perimetro_triangulo(l1,l2,l3):\n",
    "    p_t = l1 + l2 + l3\n",
    "    return p_t\n",
    "def calcula_perimetro_circulo(r):\n",
    "    p_c = r * 2* math.pi\n",
    "    return p_c\n",
    "L1 = 0\n",
    "def calcula_perimetro_retangulo(L1,L2 = False):\n",
    "    if L2 == False:\n",
    "        p_r = 4 * L1\n",
    "    else: \n",
    "        p_r = 2 * L1 + 2 * L2\n",
    "    return  p_r"
   ]
  },
  {
   "cell_type": "code",
   "execution_count": null,
   "id": "36269c71",
   "metadata": {},
   "outputs": [],
   "source": [
    "## Escreva aqui o programa principal \n",
    "import math\n",
    "def calcula_perimetro_triangulo(l1,l2,l3):\n",
    "    p_t = l1 + l2 + l3\n",
    "    return p_t\n",
    "def calcula_perimetro_circulo(r):\n",
    "    p_c = r * 2* math.pi\n",
    "    return p_c\n",
    "L1 = 0\n",
    "def calcula_perimetro_retangulo(L1,L2 = False):\n",
    "    if L2 == False:\n",
    "        p_r = 4 * L1\n",
    "    else: \n",
    "        p_r = 2 * L1 + 2 * L2\n",
    "    return  p_r\n",
    "print(\"O que deseja calcular?\")\n",
    "print(\"1 - Calcular perímetro triângulo\")\n",
    "print(\"2 - Calcular perímetro círculo\")\n",
    "print(\"3 - Calcular perímetro quadrado\")\n",
    "print(\"4 - Calcular perímetro retângulo\")\n",
    "print(\"5 - Sair\")\n",
    "op = int(input(\"Digite a opção desejada: \"))\n",
    "if op == 1:\n",
    "    l1, l2, l3 = float(input(\"Digite o valor do lado 1: \")), int(input(\"Digite o valor do lado 2: \")), int(input(\"Digite o valor do lado 3: \"))\n",
    "    perimetro_tri = calcula_perimetro_triangulo (l1,l2,l3)\n",
    "    print(f'O perimetro do triângulo é: {perimetro_tri}')\n",
    "if op == 2:\n",
    "    r = float(input(\"Digite o valor do raio: \"))\n",
    "    perimetro_cir = calcula_perimetro_circulo (r)\n",
    "    print(f'O perimetro do circulo é: {perimetro_cir}')\n",
    "if op == 3:\n",
    "    L1 = float(input(\"Digite o valor do lado 1: \"))\n",
    "    perimetro_qua = calcula_perimetro_retangulo (L1)\n",
    "    print(f'O perimetro do triângulo é: {perimetro_qua}')\n",
    "if op == 4:\n",
    "    L1, L2 = float(input(\"Digite o valor do lado 1: \")), int(input(\"Digite o valor do lado 2: \"))\n",
    "    perimetro_ret = calcula_perimetro_retangulo (L1,L2)\n",
    "    print(f'O perimetro do triângulo é: {perimetro_ret}')\n",
    "if op == 5:\n",
    "    print(\"Fim\")"
   ]
  },
  {
   "cell_type": "markdown",
   "id": "3016bcc7",
   "metadata": {},
   "source": [
    "## Funções ```lambda```"
   ]
  },
  {
   "cell_type": "markdown",
   "id": "f9cdb8dd",
   "metadata": {},
   "source": [
    "### Q6.\n",
    "\n",
    "Crie uma função lambda para verificar se um número é par ou ímpar. Em seguida, solicite ao usuário um número indefinidos de valores (até que o usuário digite 0). Para cada valor de entrada, informe se é par ou ímpar.\n",
    "\n",
    "Exemplo de interação:\n",
    "```\n",
    "Digite os valores que deseja verificar a paridade (digite 0 para finalizar a entrada de dados):\n",
    "3\n",
    "ímpar\n",
    "8\n",
    "par\n",
    "12\n",
    "par\n",
    "5\n",
    "ímpar\n",
    "7ímpar\n",
    "```"
   ]
  },
  {
   "cell_type": "code",
   "execution_count": null,
   "id": "e3c31a78",
   "metadata": {},
   "outputs": [],
   "source": [
    "par_ou_impar = lambda x: \"Par\" if x % 2 == 0 else \"Ímpar\"\n",
    "while True:\n",
    "    x = int(input(\"Digite um número: \"))\n",
    "    if x == 0:\n",
    "        break\n",
    "    resultado = par_ou_impar(x)\n",
    "    print(f\"O número {x} é {resultado}.\")"
   ]
  },
  {
   "cell_type": "markdown",
   "id": "5a87474d",
   "metadata": {},
   "source": [
    "### Q7.\n",
    "\n",
    "Escreva um programa que pergunte ao usuário qual operação ele deseja: maior ou menor.\n",
    "Em seguida leia uma quantidade indefinida de valores do usuário, até que o usuário digite o valor zero.\n",
    "Apresente ao final o maior ou menor dos valores digitados de acordo com a escolha do usuário.\n",
    "\n",
    "**Sua solução deve incluir pelo menos uma função ```lambda```** \n",
    "\n",
    "Exemplo de interação:\n",
    "```\n",
    "Opções: (1) maior ou (2) menor?\n",
    "Opção: 1\n",
    "\n",
    "Digite os valores de entrada. Digite 0 para finalizar a entrada de valores.\n",
    "4\n",
    "12\n",
    "15\n",
    "1\n",
    "0\n",
    "\n",
    "O maior valor é: 15\n",
    "```"
   ]
  },
  {
   "cell_type": "code",
   "execution_count": null,
   "id": "ee3f68ca",
   "metadata": {},
   "outputs": [],
   "source": [
    "## Escreva aqui o programa principal \n",
    "op = int(input(\"Digite 1 para maior ou 2 para menor: \"))\n",
    "if op == 1:\n",
    "    result = float(\"-inf\")\n",
    "    op_fuction = lambda a,b: a > b\n",
    "elif op == 2:\n",
    "    result = float(\"inf\")\n",
    "    op_fuction = lambda a,b: a < b\n",
    "while True:\n",
    "    x = int(input(\"Digite um número: \"))\n",
    "    if x == 0:\n",
    "        break\n",
    "    if op_fuction (x, result):\n",
    "        result = x\n",
    "print(result)\n",
    "\n"
   ]
  }
 ],
 "metadata": {
  "kernelspec": {
   "display_name": "Python 3 (ipykernel)",
   "language": "python",
   "name": "python3"
  },
  "language_info": {
   "codemirror_mode": {
    "name": "ipython",
    "version": 3
   },
   "file_extension": ".py",
   "mimetype": "text/x-python",
   "name": "python",
   "nbconvert_exporter": "python",
   "pygments_lexer": "ipython3",
   "version": "3.11.7"
  }
 },
 "nbformat": 4,
 "nbformat_minor": 5
}
